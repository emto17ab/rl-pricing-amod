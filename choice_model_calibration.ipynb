{
 "cells": [
  {
   "cell_type": "markdown",
   "id": "47bfaa66",
   "metadata": {},
   "source": [
    "# Choice Model Calibration Analysis\n",
    "\n",
    "This notebook analyzes how the intercept parameter in the choice model affects trip acceptance rates for the NYC Manhattan scenario at hour 19."
   ]
  },
  {
   "cell_type": "markdown",
   "id": "c73601c7",
   "metadata": {},
   "source": [
    "## 1. Import Libraries"
   ]
  },
  {
   "cell_type": "code",
   "execution_count": 1,
   "id": "0e2eb3b1",
   "metadata": {},
   "outputs": [],
   "source": [
    "import json\n",
    "import numpy as np\n",
    "import matplotlib.pyplot as plt\n",
    "import pandas as pd\n",
    "from tqdm import tqdm\n",
    "\n",
    "# Set plot style for professional appearance\n",
    "plt.style.use('seaborn-v0_8-paper')\n",
    "plt.rcParams['font.family'] = 'serif'\n",
    "plt.rcParams['font.size'] = 10\n",
    "plt.rcParams['axes.labelsize'] = 11\n",
    "plt.rcParams['axes.titlesize'] = 12\n",
    "plt.rcParams['xtick.labelsize'] = 10\n",
    "plt.rcParams['ytick.labelsize'] = 10\n",
    "plt.rcParams['legend.fontsize'] = 10\n",
    "plt.rcParams['figure.titlesize'] = 12"
   ]
  },
  {
   "cell_type": "markdown",
   "id": "d7595226",
   "metadata": {},
   "source": [
    "## 2. Define Choice Model Parameters\n",
    "\n",
    "These are the fixed parameters from the codebase (`src/envs/amod_env_multi.py`)."
   ]
  },
  {
   "cell_type": "code",
   "execution_count": 2,
   "id": "fccb0821",
   "metadata": {},
   "outputs": [
    {
     "name": "stdout",
     "output_type": "stream",
     "text": [
      "Choice Model Parameters:\n",
      "  Intercept (default): 13.5\n",
      "  Travel time coefficient: -0.71\n",
      "  Wage: $25/hour\n",
      "  Income effect: 1.0\n",
      "  Price multiplier: 1.0\n",
      "  Rejection utility: 0\n"
     ]
    }
   ],
   "source": [
    "# Fixed choice model parameters from the code\n",
    "INTERCEPT_DEFAULT = 13.5  # Default intercept value\n",
    "TRAVEL_TIME_COEF = -0.71  # Coefficient for travel time\n",
    "WAGE = 25  # Hourly wage in dollars\n",
    "INCOME_EFFECT = 25 / WAGE  # Income effect multiplier\n",
    "CHOICE_PRICE_MULT = 1.0  # Default price multiplier\n",
    "U_REJECT = 0  # Utility of rejecting the trip (outside option)\n",
    "\n",
    "print(\"Choice Model Parameters:\")\n",
    "print(f\"  Intercept (default): {INTERCEPT_DEFAULT}\")\n",
    "print(f\"  Travel time coefficient: {TRAVEL_TIME_COEF}\")\n",
    "print(f\"  Wage: ${WAGE}/hour\")\n",
    "print(f\"  Income effect: {INCOME_EFFECT}\")\n",
    "print(f\"  Price multiplier: {CHOICE_PRICE_MULT}\")\n",
    "print(f\"  Rejection utility: {U_REJECT}\")"
   ]
  },
  {
   "cell_type": "markdown",
   "id": "6df63461",
   "metadata": {},
   "source": [
    "## 3. Load NYC Manhattan Scenario Data"
   ]
  },
  {
   "cell_type": "code",
   "execution_count": 3,
   "id": "e822295e",
   "metadata": {},
   "outputs": [
    {
     "name": "stdout",
     "output_type": "stream",
     "text": [
      "Scenario loaded successfully\n",
      "Number of nodes: 12\n",
      "Number of demand entries: 14097\n",
      "Total demand (all hours): 85994 passengers\n"
     ]
    }
   ],
   "source": [
    "# Load the scenario data\n",
    "with open('data/scenario_nyc_manhattan.json', 'r') as f:\n",
    "    scenario_data = json.load(f)\n",
    "\n",
    "print(f\"Scenario loaded successfully\")\n",
    "print(f\"Number of nodes: {scenario_data['nlat']}\")\n",
    "print(f\"Number of demand entries: {len(scenario_data['demand'])}\")\n",
    "print(f\"Total demand (all hours): {sum(trip['demand'] for trip in scenario_data['demand']):.0f} passengers\")"
   ]
  },
  {
   "cell_type": "markdown",
   "id": "87f6ab00",
   "metadata": {},
   "source": [
    "## 4. Filter Demand for Hour 19"
   ]
  },
  {
   "cell_type": "code",
   "execution_count": 4,
   "id": "d9ffb949",
   "metadata": {},
   "outputs": [
    {
     "name": "stdout",
     "output_type": "stream",
     "text": [
      "\n",
      "Demand trips at hour 19:\n",
      "  Number of O-D pair entries: 4677\n",
      "  Total demand (passengers): 30866\n",
      "  Time range: minute 1140 to 1199 (hour 19:00-19:59)\n",
      "\n",
      "Sample trip:\n",
      "  Time stamp: 1140 (minute of day)\n",
      "  Origin: 0, Destination: 0\n",
      "  Travel time: 6 min\n",
      "  Price: $8.04\n",
      "  Demand: 3.00\n"
     ]
    }
   ],
   "source": [
    "# Filter demand for hour 19\n",
    "# Hour 19 = 19:00-19:59, which corresponds to minutes 1140-1199 (19*60 to 20*60-1)\n",
    "hour_19_start = 19 * 60  # 1140\n",
    "hour_19_end = 20 * 60    # 1200\n",
    "\n",
    "demand_hour_19 = [\n",
    "    trip for trip in scenario_data['demand'] \n",
    "    if hour_19_start <= trip['time_stamp'] < hour_19_end\n",
    "]\n",
    "\n",
    "print(f\"\\nDemand trips at hour 19:\")\n",
    "print(f\"  Number of O-D pair entries: {len(demand_hour_19)}\")\n",
    "print(f\"  Total demand (passengers): {sum(trip['demand'] for trip in demand_hour_19):.0f}\")\n",
    "print(f\"  Time range: minute {hour_19_start} to {hour_19_end-1} (hour 19:00-19:59)\")\n",
    "\n",
    "# Show sample of data\n",
    "print(f\"\\nSample trip:\")\n",
    "if demand_hour_19:\n",
    "    sample = demand_hour_19[0]\n",
    "    print(f\"  Time stamp: {sample['time_stamp']} (minute of day)\")\n",
    "    print(f\"  Origin: {sample['origin']}, Destination: {sample['destination']}\")\n",
    "    print(f\"  Travel time: {sample['travel_time']} min\")\n",
    "    print(f\"  Price: ${sample['price']:.2f}\")\n",
    "    print(f\"  Demand: {sample['demand']:.2f}\")"
   ]
  },
  {
   "cell_type": "code",
   "execution_count": 6,
   "id": "220b13ff",
   "metadata": {},
   "outputs": [
    {
     "name": "stdout",
     "output_type": "stream",
     "text": [
      "\n",
      "Scaling demand by factor of 2\n",
      "Original total demand: 30866 passengers\n",
      "Scaled total demand: 61732 passengers\n",
      "Number of O-D pairs (unchanged): 4677\n"
     ]
    }
   ],
   "source": [
    "# Scale demand by factor of 2\n",
    "DEMAND_SCALE_FACTOR = 2\n",
    "\n",
    "print(f\"\\nScaling demand by factor of {DEMAND_SCALE_FACTOR}\")\n",
    "print(f\"Original total demand: {sum(trip['demand'] for trip in demand_hour_19):.0f} passengers\")\n",
    "\n",
    "# Scale the demand for each OD pair\n",
    "for trip in demand_hour_19:\n",
    "    trip['demand'] = trip['demand'] * DEMAND_SCALE_FACTOR\n",
    "\n",
    "print(f\"Scaled total demand: {sum(trip['demand'] for trip in demand_hour_19):.0f} passengers\")\n",
    "print(f\"Number of O-D pairs (unchanged): {len(demand_hour_19)}\")"
   ]
  },
  {
   "cell_type": "markdown",
   "id": "4642444e",
   "metadata": {},
   "source": [
    "## 5. Analyze Trip Acceptance Across Intercept Values"
   ]
  },
  {
   "cell_type": "markdown",
   "id": "b5d87f26",
   "metadata": {},
   "source": [
    "## 6. Create Professional Visualization"
   ]
  },
  {
   "cell_type": "code",
   "execution_count": 7,
   "id": "77b4c86b",
   "metadata": {},
   "outputs": [
    {
     "name": "stdout",
     "output_type": "stream",
     "text": [
      "Two-agent Monte Carlo choice model simulation\n",
      "Testing 100 intercept values from 6.0 to 20.0\n",
      "Focused range to capture S-curve around 50% acceptance\n",
      "Total demand: 61732 trips\n",
      "\n"
     ]
    },
    {
     "name": "stderr",
     "output_type": "stream",
     "text": [
      "Testing intercept values: 100%|██████████| 100/100 [04:03<00:00,  2.44s/it]"
     ]
    },
    {
     "name": "stdout",
     "output_type": "stream",
     "text": [
      "\n",
      "Results:\n",
      "  At intercept=6.00: 21.80%\n",
      "  At intercept=7.84 (50% acceptance): 49.73%\n",
      "  At intercept=20.00: 98.94%\n"
     ]
    },
    {
     "name": "stderr",
     "output_type": "stream",
     "text": [
      "\n"
     ]
    }
   ],
   "source": [
    "# Define range of intercept values to test (focused around 50% acceptance for nice S-curve)\n",
    "intercept_range = np.linspace(6, 20, 100)\n",
    "\n",
    "# Calculate total demand\n",
    "total_demand = sum(int(trip['demand']) for trip in demand_hour_19)\n",
    "\n",
    "print(\"Two-agent Monte Carlo choice model simulation\")\n",
    "print(f\"Testing {len(intercept_range)} intercept values from {intercept_range[0]} to {intercept_range[-1]}\")\n",
    "print(f\"Focused range to capture S-curve around 50% acceptance\")\n",
    "print(f\"Total demand: {total_demand} trips\\n\")\n",
    "\n",
    "# Run simulations\n",
    "n_simulations = 50\n",
    "proportion_accepted = []\n",
    "accepted_demand_values = []\n",
    "\n",
    "for intercept in tqdm(intercept_range, desc=\"Testing intercept values\"):\n",
    "    accepted_counts = []\n",
    "    \n",
    "    # Run multiple Monte Carlo simulations\n",
    "    for sim in range(n_simulations):\n",
    "        total_accepted = 0\n",
    "        \n",
    "        for trip in demand_hour_19:\n",
    "            # Calculate utilities for both agents (same price for both in baseline)\n",
    "            travel_time_hours = trip['travel_time'] / 60\n",
    "            U_agent = intercept - TRAVEL_TIME_COEF * WAGE * travel_time_hours - INCOME_EFFECT * CHOICE_PRICE_MULT * trip['price']\n",
    "            \n",
    "            # Multinomial logit probabilities: agent0, agent1, reject\n",
    "            exp_u_agent = np.exp(U_agent)\n",
    "            exp_u_reject = np.exp(U_REJECT)\n",
    "            sum_exp = 2 * exp_u_agent + exp_u_reject  # Both agents have same utility\n",
    "            \n",
    "            prob_accept = 2 * exp_u_agent / sum_exp  # Probability of acceptance by either agent\n",
    "            \n",
    "            # Sample each passenger\n",
    "            demand_int = int(trip['demand'])\n",
    "            for _ in range(demand_int):\n",
    "                if np.random.random() < prob_accept:\n",
    "                    total_accepted += 1\n",
    "        \n",
    "        accepted_counts.append(total_accepted)\n",
    "    \n",
    "    # Store results\n",
    "    mean_accepted = np.mean(accepted_counts)\n",
    "    proportion_accepted.append(mean_accepted / total_demand)\n",
    "    accepted_demand_values.append(mean_accepted)\n",
    "\n",
    "# Convert to arrays\n",
    "intercept_range = np.array(intercept_range)\n",
    "proportion_accepted = np.array(proportion_accepted)\n",
    "\n",
    "# Find key values\n",
    "idx_50 = np.argmin(np.abs(proportion_accepted - 0.5))\n",
    "\n",
    "print(f\"\\nResults:\")\n",
    "print(f\"  At intercept={intercept_range[0]:.2f}: {proportion_accepted[0]:.2%}\")\n",
    "print(f\"  At intercept={intercept_range[idx_50]:.2f} (50% acceptance): {proportion_accepted[idx_50]:.2%}\")\n",
    "print(f\"  At intercept={intercept_range[-1]:.2f}: {proportion_accepted[-1]:.2%}\")"
   ]
  },
  {
   "cell_type": "markdown",
   "id": "a339959a",
   "metadata": {},
   "source": [
    "## 7. Summary Statistics"
   ]
  },
  {
   "cell_type": "code",
   "execution_count": 8,
   "id": "eec456a7",
   "metadata": {},
   "outputs": [
    {
     "data": {
      "image/png": "[encoded data removed]",
      "text/plain": [
       "<Figure size 800x500 with 1 Axes>"
      ]
     },
     "metadata": {},
     "output_type": "display_data"
    },
    {
     "name": "stdout",
     "output_type": "stream",
     "text": [
      "\n",
      "Figure saved to:\n",
      "  - saved_files/choice_model_acceptance_curve.png\n",
      "  - saved_files/choice_model_acceptance_curve.pdf\n"
     ]
    }
   ],
   "source": [
    "# Create figure\n",
    "fig, ax = plt.subplots(figsize=(8, 5))\n",
    "\n",
    "# Plot the main S-curve in gray tones\n",
    "ax.plot(intercept_range, proportion_accepted, \n",
    "        color='#2d2d2d', linewidth=2.5)\n",
    "\n",
    "# Add horizontal line at 50% acceptance\n",
    "ax.axhline(y=0.5, color='#666666', linestyle=':', \n",
    "           linewidth=1.5, label='50% Acceptance', zorder=1)\n",
    "\n",
    "# Add horizontal gridlines\n",
    "ax.grid(True, axis='y', alpha=0.3, linestyle='-', linewidth=0.5, color='#cccccc')\n",
    "ax.set_axisbelow(True)\n",
    "\n",
    "# Labels and title\n",
    "ax.set_xlabel('Intercept Parameter (β₀)', fontsize=11, fontweight='normal')\n",
    "ax.set_ylabel('Proportion of Trips Accepted', fontsize=11, fontweight='normal')\n",
    "ax.set_title('Choice Model Acceptance Curve\\nNYC Manhattan, Hour 19', \n",
    "             fontsize=12, fontweight='bold', pad=15)\n",
    "\n",
    "# Format y-axis as percentage\n",
    "ax.yaxis.set_major_formatter(plt.FuncFormatter(lambda y, _: f'{y:.0%}'))\n",
    "\n",
    "# Set axis limits\n",
    "ax.set_xlim(intercept_range[0], intercept_range[-1])\n",
    "ax.set_ylim(0, 1.0)\n",
    "\n",
    "# Add legend\n",
    "ax.legend(loc='lower right', frameon=True, fancybox=False, \n",
    "          shadow=False, framealpha=0.95, edgecolor='#cccccc')\n",
    "\n",
    "# Adjust spine colors\n",
    "for spine in ax.spines.values():\n",
    "    spine.set_edgecolor('#666666')\n",
    "    spine.set_linewidth(1)\n",
    "\n",
    "# Tight layout\n",
    "plt.tight_layout()\n",
    "\n",
    "# Save figure\n",
    "plt.savefig('saved_files/choice_model_acceptance_curve.png', \n",
    "            dpi=300, bbox_inches='tight', facecolor='white')\n",
    "plt.savefig('saved_files/choice_model_acceptance_curve.pdf', \n",
    "            bbox_inches='tight', facecolor='white')\n",
    "\n",
    "plt.show()\n",
    "\n",
    "print(\"\\nFigure saved to:\")\n",
    "print(\"  - saved_files/choice_model_acceptance_curve.png\")\n",
    "print(\"  - saved_files/choice_model_acceptance_curve.pdf\")"
   ]
  },
  {
   "cell_type": "markdown",
   "id": "71eee4b3",
   "metadata": {},
   "source": [
    "## 8. Additional Analysis: Price and Travel Time Distributions"
   ]
  },
  {
   "cell_type": "code",
   "execution_count": 9,
   "id": "f7100083",
   "metadata": {},
   "outputs": [
    {
     "name": "stdout",
     "output_type": "stream",
     "text": [
      "============================================================\n",
      "SUMMARY STATISTICS\n",
      "============================================================\n",
      "\n",
      "Total demand at hour 19: 61732 trips\n",
      "Number of O-D pairs: 4677\n",
      "\n",
      "Intercept range tested: 6.00 to 20.00\n",
      "\n",
      "Intercept values for target acceptance rates:\n",
      "  10% acceptance: β₀ = 6.00\n",
      "  25% acceptance: β₀ = 6.28\n",
      "  50% acceptance: β₀ = 7.84\n",
      "  75% acceptance: β₀ = 9.82\n",
      "  90% acceptance: β₀ = 12.22\n",
      "============================================================\n",
      "\n",
      "Sample results (every 20th value):\n"
     ]
    },
    {
     "data": {
      "text/html": [
       "<div>\n",
       "<style scoped>\n",
       "    .dataframe tbody tr th:only-of-type {\n",
       "        vertical-align: middle;\n",
       "    }\n",
       "\n",
       "    .dataframe tbody tr th {\n",
       "        vertical-align: top;\n",
       "    }\n",
       "\n",
       "    .dataframe thead th {\n",
       "        text-align: right;\n",
       "    }\n",
       "</style>\n",
       "<table border=\"1\" class=\"dataframe\">\n",
       "  <thead>\n",
       "    <tr style=\"text-align: right;\">\n",
       "      <th></th>\n",
       "      <th>Intercept</th>\n",
       "      <th>Acceptance_Rate</th>\n",
       "      <th>Accepted_Demand</th>\n",
       "    </tr>\n",
       "  </thead>\n",
       "  <tbody>\n",
       "    <tr>\n",
       "      <th>0</th>\n",
       "      <td>6.000</td>\n",
       "      <td>0.218</td>\n",
       "      <td>13454.56</td>\n",
       "    </tr>\n",
       "    <tr>\n",
       "      <th>20</th>\n",
       "      <td>8.828</td>\n",
       "      <td>0.641</td>\n",
       "      <td>39564.96</td>\n",
       "    </tr>\n",
       "    <tr>\n",
       "      <th>40</th>\n",
       "      <td>11.657</td>\n",
       "      <td>0.879</td>\n",
       "      <td>54260.58</td>\n",
       "    </tr>\n",
       "    <tr>\n",
       "      <th>60</th>\n",
       "      <td>14.485</td>\n",
       "      <td>0.951</td>\n",
       "      <td>58707.90</td>\n",
       "    </tr>\n",
       "    <tr>\n",
       "      <th>80</th>\n",
       "      <td>17.313</td>\n",
       "      <td>0.978</td>\n",
       "      <td>60391.26</td>\n",
       "    </tr>\n",
       "  </tbody>\n",
       "</table>\n",
       "</div>"
      ],
      "text/plain": [
       "    Intercept  Acceptance_Rate  Accepted_Demand\n",
       "0       6.000            0.218         13454.56\n",
       "20      8.828            0.641         39564.96\n",
       "40     11.657            0.879         54260.58\n",
       "60     14.485            0.951         58707.90\n",
       "80     17.313            0.978         60391.26"
      ]
     },
     "metadata": {},
     "output_type": "display_data"
    }
   ],
   "source": [
    "# Create summary dataframe\n",
    "summary_df = pd.DataFrame({\n",
    "    'Intercept': intercept_range,\n",
    "    'Acceptance_Rate': proportion_accepted,\n",
    "    'Accepted_Demand': accepted_demand_values\n",
    "})\n",
    "\n",
    "# Find key intercept values\n",
    "idx_10 = np.argmin(np.abs(proportion_accepted - 0.1))\n",
    "idx_25 = np.argmin(np.abs(proportion_accepted - 0.25))\n",
    "idx_50 = np.argmin(np.abs(proportion_accepted - 0.5))\n",
    "idx_75 = np.argmin(np.abs(proportion_accepted - 0.75))\n",
    "idx_90 = np.argmin(np.abs(proportion_accepted - 0.9))\n",
    "\n",
    "print(\"=\" * 60)\n",
    "print(\"SUMMARY STATISTICS\")\n",
    "print(\"=\" * 60)\n",
    "print(f\"\\nTotal demand at hour 19: {total_demand} trips\")\n",
    "print(f\"Number of O-D pairs: {len(demand_hour_19)}\")\n",
    "print(f\"\\nIntercept range tested: {intercept_range[0]:.2f} to {intercept_range[-1]:.2f}\")\n",
    "print(f\"\\nIntercept values for target acceptance rates:\")\n",
    "print(f\"  10% acceptance: β₀ = {intercept_range[idx_10]:.2f}\")\n",
    "print(f\"  25% acceptance: β₀ = {intercept_range[idx_25]:.2f}\")\n",
    "print(f\"  50% acceptance: β₀ = {intercept_range[idx_50]:.2f}\")\n",
    "print(f\"  75% acceptance: β₀ = {intercept_range[idx_75]:.2f}\")\n",
    "print(f\"  90% acceptance: β₀ = {intercept_range[idx_90]:.2f}\")\n",
    "print(\"=\" * 60)\n",
    "\n",
    "# Display sample results\n",
    "print(\"\\nSample results (every 20th value):\")\n",
    "display(summary_df.iloc[::20].round(3))"
   ]
  }
 ],
 "metadata": {
  "kernelspec": {
   "display_name": "thesis_env (3.10.18)",
   "language": "python",
   "name": "python3"
  },
  "language_info": {
   "codemirror_mode": {
    "name": "ipython",
    "version": 3
   },
   "file_extension": ".py",
   "mimetype": "text/x-python",
   "name": "python",
   "nbconvert_exporter": "python",
   "pygments_lexer": "ipython3",
   "version": "3.10.18"
  }
 },
 "nbformat": 4,
 "nbformat_minor": 5
}
